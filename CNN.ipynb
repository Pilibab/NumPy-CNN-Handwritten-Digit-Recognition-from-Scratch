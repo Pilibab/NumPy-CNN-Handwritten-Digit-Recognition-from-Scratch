{
 "cells": [
  {
   "cell_type": "markdown",
   "id": "7de812f2",
   "metadata": {},
   "source": [
    "# __Implementing CNN (Convulusion Neural Network) from scratch__\n",
    "### without machine learning library and with numpy and pandas only\n"
   ]
  },
  {
   "cell_type": "markdown",
   "id": "4072c8d9",
   "metadata": {},
   "source": [
    "##### imports"
   ]
  },
  {
   "cell_type": "code",
   "execution_count": 1,
   "id": "2a6a9552",
   "metadata": {},
   "outputs": [],
   "source": [
    "# import library \n",
    "import os \n",
    "import numpy as np \n",
    "import struct \n",
    "import gzip\n",
    "import matplotlib.pyplot as plt"
   ]
  },
  {
   "cell_type": "markdown",
   "id": "5f8264f9",
   "metadata": {},
   "source": [
    "##### const variable"
   ]
  },
  {
   "cell_type": "code",
   "execution_count": 2,
   "id": "016a94f2",
   "metadata": {},
   "outputs": [],
   "source": [
    "# const\n",
    "DATASET_TYPE = \"byclass\"\n",
    "RAW_DIR      = \"gzip/\"\n",
    "UNPACK_DIR   = f\"unpacked_{DATASET_TYPE}\"\n",
    "NPY_DIR      = \"datasets_npy\""
   ]
  },
  {
   "cell_type": "markdown",
   "id": "0f71e854",
   "metadata": {},
   "source": [
    "##### Reading, Storing data\n"
   ]
  },
  {
   "cell_type": "code",
   "execution_count": 3,
   "id": "25cff6f1",
   "metadata": {},
   "outputs": [
    {
     "name": "stdout",
     "output_type": "stream",
     "text": [
      "Checking: c:\\Users\\acer\\Desktop\\PROGRAMMING\\machine_learning\\NumPy-CNN-Handwritten-Digit-Recognition-from-Scratch\\unpacked_byclass\n",
      "gzip directory already exist\n"
     ]
    }
   ],
   "source": [
    "\n",
    "def read_idx(file_name):\n",
    "    with open(file_name, 'rb') as f:\n",
    "        zero, data_type, dims = struct.unpack('>HBB', f.read(4))\n",
    "        shape = tuple(struct.unpack('>I', f.read(4))[0] for d in range(dims))\n",
    "        data = np.frombuffer(f.read(), dtype=np.uint8).reshape(shape)\n",
    "    return data\n",
    "\n",
    "def load_emnist_byclass(path=UNPACK_DIR, dataset_type = DATASET_TYPE):\n",
    "    if os.path.exists(path):\n",
    "        return  \n",
    "\n",
    "    # files are inside gzip.zip -> extract first\n",
    "    X_train = read_idx(os.path.join(path, f\"emnist-{dataset_type}-train-images-idx3-ubyte\")) \n",
    "    y_train = read_idx(os.path.join(path, f\"emnist-{dataset_type}-train-labels-idx1-ubyte\")) \n",
    "    X_test  = read_idx(os.path.join(path, f\"emnist-{dataset_type}-test-images-idx3-ubyte\")) \n",
    "    y_test  = read_idx(os.path.join(path, f\"emnist-{dataset_type}-test-labels-idx1-ubyte\")) \n",
    "    \n",
    "    save_binary(X_train, y_train, X_test, y_test)\n",
    "\n",
    "def save_binary(X_train, y_train, X_test, y_test, path=NPY_DIR):\n",
    "    if os.path.exists(path):\n",
    "        return \n",
    "    \n",
    "    # create folder \n",
    "    os.makedirs(path)\n",
    "\n",
    "    # save ubyte to binary format \n",
    "    np.save(os.path.join(path, \"X_train.npy\"), X_train.astype(\"float32\") / 255)\n",
    "    np.save(os.path.join(path, \"Y_train.npy\"), y_train.astype(\"float32\") / 255)\n",
    "    np.save(os.path.join(path, \"X_test.npy\"), X_test.astype(\"float32\") / 255)\n",
    "    np.save(os.path.join(path, \"Y_test.npy\"), y_test.astype(\"float32\") / 255)\n",
    "\n",
    "\n",
    "# Define the directory where your files are located\n",
    "def extract_gzip(input_dir = RAW_DIR, data_set_type=DATASET_TYPE):\n",
    "    \"\"\"\"\"\"\n",
    "    unpacked_dir =  f\"unpacked_{data_set_type}\"\n",
    "    # TODO: since uncompressed files are at the same heirarchy as the ain code file find a way for git \n",
    "    #       ignore to to be able to ignore other data set type folder\n",
    "\n",
    "    if os.path.exists(unpacked_dir):\n",
    "        print(\"Checking:\", os.path.abspath(unpacked_dir))\n",
    "        print(\"gzip directory already exist\")\n",
    "        return \n",
    "\n",
    "    # if directory does not exist \n",
    "    print(\"making directory\")\n",
    "    os.makedirs(unpacked_dir)    \n",
    "\n",
    "    # Loop through all files in the specified directory\n",
    "    # example relative path \"gzip\\emnist-digits-test-images-idx3-ubyte.gz\"\n",
    "    for filename in os.listdir(input_dir):\n",
    "        # split the file name for data set type checking \n",
    "        name = filename.split(\"-\")\n",
    "\n",
    "        # Check if the file has a '.gz' extension\n",
    "        if (filename.endswith('.gz')) and name[1] == data_set_type:\n",
    "            # Construct the full path for the compressed file\n",
    "            compressed_filepath = os.path.join(input_dir, filename)\n",
    "\n",
    "            # Create the name for the new uncompressed file by removing the '.gz' extension\n",
    "            uncompressed_filename = os.path.splitext(filename)[0]\n",
    "            uncompressed_filepath = os.path.join(unpacked_dir, uncompressed_filename)\n",
    "\n",
    "            # Open the compressed file and the new uncompressed file\n",
    "            with gzip.open(compressed_filepath, 'rb') as f_in:\n",
    "                with open(uncompressed_filepath, 'wb') as f_out:\n",
    "                    f_out.write(f_in.read())\n",
    "\n",
    "            print(f'\\t- Extracted: {filename} -> {uncompressed_filename}')\n",
    "\n",
    "extract_gzip()\n",
    "load_emnist_byclass()"
   ]
  },
  {
   "cell_type": "markdown",
   "id": "a6f4fb19",
   "metadata": {},
   "source": [
    "#### Helper"
   ]
  },
  {
   "cell_type": "code",
   "execution_count": null,
   "id": "400e64d1",
   "metadata": {},
   "outputs": [],
   "source": [
    "def plot_sample(bitmap_sample):\n",
    "    plt.imshow(bitmap_sample, cmap=\"gray\")\n",
    "    plt.show"
   ]
  },
  {
   "cell_type": "markdown",
   "id": "22497b25",
   "metadata": {},
   "source": [
    "#### CNN implementation\n"
   ]
  },
  {
   "cell_type": "code",
   "execution_count": null,
   "id": "40c4c1c3",
   "metadata": {},
   "outputs": [
    {
     "data": {
      "text/plain": [
       "<function matplotlib.pyplot.show(close=None, block=None)>"
      ]
     },
     "execution_count": 4,
     "metadata": {},
     "output_type": "execute_result"
    },
    {
     "data": {
      "image/png": "[encoded data removed]",
      "text/plain": [
       "<Figure size 640x480 with 1 Axes>"
      ]
     },
     "metadata": {},
     "output_type": "display_data"
    }
   ],
   "source": [
    "xtrain = np.load(\"datasets_npy/X_train.npy\", mmap_mode='r')\n",
    "ytrain = np.load(\"datasets_npy/Y_train.npy\", mmap_mode='r')\n",
    "xtest = np.load(\"datasets_npy/X_test.npy\", mmap_mode='r')\n",
    "ytest = np.load(\"datasets_npy/Y_test.npy\", mmap_mode='r')\n",
    "\n",
    "class CNN():\n",
    "    def __init__(self):\n",
    "        pass\n",
    "    def convolution(self):\n",
    "        pass\n",
    "    def max_pool(self):\n",
    "        pass\n",
    "    def flatten(self):\n",
    "        pass "
   ]
  }
 ],
 "metadata": {
  "kernelspec": {
   "display_name": "Python (cnn-env)",
   "language": "python",
   "name": "cnn-env"
  },
  "language_info": {
   "codemirror_mode": {
    "name": "ipython",
    "version": 3
   },
   "file_extension": ".py",
   "mimetype": "text/x-python",
   "name": "python",
   "nbconvert_exporter": "python",
   "pygments_lexer": "ipython3",
   "version": "3.11.3"
  }
 },
 "nbformat": 4,
 "nbformat_minor": 5
}
